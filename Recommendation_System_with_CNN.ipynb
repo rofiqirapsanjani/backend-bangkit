{
  "cells": [
    {
      "cell_type": "markdown",
      "metadata": {
        "id": "tpEhry5CGvSV"
      },
      "source": [
        "# **Sistem Rekomendasi Barang Jualan (CNN)**\n"
      ]
    },
    {
      "cell_type": "markdown",
      "metadata": {
        "id": "Y7lW0fVRVAM3"
      },
      "source": [
        "### Mengimpor library"
      ]
    },
    {
      "cell_type": "code",
      "execution_count": null,
      "metadata": {
        "id": "bNLDan-7VAM6"
      },
      "outputs": [],
      "source": [
        "import numpy as np \n",
        "import pandas as pd\n",
        "import cv2\n",
        "import zipfile\n",
        "import os\n",
        "import matplotlib.pyplot as plt\n",
        "\n",
        "from tensorflow.keras.preprocessing.image import ImageDataGenerator\n",
        "import math\n",
        "\n",
        "from tensorflow.keras.models import Sequential\n",
        "from tensorflow.keras.layers import Conv2D, MaxPooling2D, UpSampling2D, Flatten, Dense, Dropout\n",
        "from tensorflow.keras.optimizers import Adam\n",
        "import os\n",
        "import tensorflow as tf\n",
        "import datetime, os\n",
        "from tensorflow.keras.callbacks import TensorBoard\n",
        "\n",
        "from tensorflow.keras import layers\n",
        "from tensorflow.keras import Model\n",
        "from keras import models\n",
        "\n",
        "%matplotlib inline"
      ]
    },
    {
      "cell_type": "markdown",
      "metadata": {
        "id": "nKCFYOuWHeOV"
      },
      "source": [
        "### Penggunaan Kaggle"
      ]
    },
    {
      "cell_type": "code",
      "execution_count": null,
      "metadata": {
        "id": "DwbB8H8KVPGf"
      },
      "outputs": [],
      "source": [
        "! pip install -q kaggle"
      ]
    },
    {
      "cell_type": "code",
      "execution_count": null,
      "metadata": {
        "colab": {
          "base_uri": "https://localhost:8080/",
          "height": 91,
          "resources": {
            "http://localhost:8080/nbextensions/google.colab/files.js": {
              "data": "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",
              "headers": [
                [
                  "content-type",
                  "application/javascript"
                ]
              ],
              "ok": true,
              "status": 200,
              "status_text": ""
            }
          }
        },
        "id": "t3Z73fxMVTQ7",
        "outputId": "e86611af-dab2-4410-d86b-98768eccc405"
      },
      "outputs": [
        {
          "output_type": "display_data",
          "data": {
            "text/plain": [
              "<IPython.core.display.HTML object>"
            ],
            "text/html": [
              "\n",
              "     <input type=\"file\" id=\"files-2db7bd9f-1f88-466e-a2e9-68b37b80e419\" name=\"files[]\" multiple disabled\n",
              "        style=\"border:none\" />\n",
              "     <output id=\"result-2db7bd9f-1f88-466e-a2e9-68b37b80e419\">\n",
              "      Upload widget is only available when the cell has been executed in the\n",
              "      current browser session. Please rerun this cell to enable.\n",
              "      </output>\n",
              "      <script src=\"/nbextensions/google.colab/files.js\"></script> "
            ]
          },
          "metadata": {}
        },
        {
          "output_type": "stream",
          "name": "stdout",
          "text": [
            "Saving kaggle.json to kaggle.json\n"
          ]
        },
        {
          "output_type": "execute_result",
          "data": {
            "text/plain": [
              "{'kaggle.json': b'{\"username\":\"muhammadwafiyulloh\",\"key\":\"a28f7a0ed6b974623c4efd744a538064\"}'}"
            ]
          },
          "metadata": {},
          "execution_count": 9
        }
      ],
      "source": [
        "from google.colab import files\n",
        "files.upload()"
      ]
    },
    {
      "cell_type": "markdown",
      "metadata": {
        "id": "z1gSY81jHmcs"
      },
      "source": [
        "### Pengaksesan Dataset"
      ]
    },
    {
      "cell_type": "code",
      "execution_count": null,
      "metadata": {
        "id": "AtZJ7DydVZBY"
      },
      "outputs": [],
      "source": [
        "! mkdir ~/.kaggle\n",
        "! cp kaggle.json ~/.kaggle/\n",
        "! chmod 600 ~/.kaggle/kaggle.json"
      ]
    },
    {
      "cell_type": "code",
      "execution_count": null,
      "metadata": {
        "colab": {
          "base_uri": "https://localhost:8080/"
        },
        "id": "NzpqmdbAVcmR",
        "outputId": "cdcb5794-f0c5-4624-e5bb-8ba53e326d87"
      },
      "outputs": [
        {
          "output_type": "stream",
          "name": "stdout",
          "text": [
            "Downloading fashiondatasetfiltered.zip to /content\n",
            " 97% 70.0M/72.2M [00:03<00:00, 31.0MB/s]\n",
            "100% 72.2M/72.2M [00:03<00:00, 22.0MB/s]\n"
          ]
        }
      ],
      "source": [
        "! kaggle datasets download muhammadwafiyulloh/fashiondatasetfiltered"
      ]
    },
    {
      "cell_type": "code",
      "execution_count": null,
      "metadata": {
        "id": "JJnugTl5Vntd"
      },
      "outputs": [],
      "source": [
        "local_zip = '/content/fashiondatasetfiltered.zip'\n",
        "zip_ref = zipfile.ZipFile(local_zip, 'r')\n",
        "zip_ref.extractall('/content')\n",
        "zip_ref.close()"
      ]
    },
    {
      "cell_type": "code",
      "execution_count": null,
      "metadata": {
        "colab": {
          "base_uri": "https://localhost:8080/"
        },
        "id": "BEylRJ1dVqce",
        "outputId": "42c8788d-a37e-4919-aa7f-1c914c4cb40d"
      },
      "outputs": [
        {
          "output_type": "stream",
          "name": "stdout",
          "text": [
            " fashiondatasetfiltered.zip  'filtered images'\t sample_data\n",
            " FASHION-DATASET-SMALL\t      kaggle.json\n"
          ]
        }
      ],
      "source": [
        "!ls '/content/'"
      ]
    },
    {
      "cell_type": "markdown",
      "metadata": {
        "id": "q0PqvedoIE-I"
      },
      "source": [
        "### Menampilkan Direktori"
      ]
    },
    {
      "cell_type": "code",
      "execution_count": null,
      "metadata": {
        "colab": {
          "base_uri": "https://localhost:8080/"
        },
        "id": "wYI1JRxkVAM-",
        "outputId": "14a435dd-415f-4f50-f20a-080db956680b"
      },
      "outputs": [
        {
          "output_type": "stream",
          "name": "stdout",
          "text": [
            "['.config', 'fashiondatasetfiltered.zip', 'filtered images', 'FASHION-DATASET-SMALL', 'kaggle.json', 'sample_data']\n"
          ]
        }
      ],
      "source": [
        "DATASET_PATH = \"/content/\"\n",
        "print(os.listdir(DATASET_PATH))"
      ]
    },
    {
      "cell_type": "markdown",
      "metadata": {
        "id": "ol_Ts17h0pxO"
      },
      "source": [
        "### Persiapan Dataset"
      ]
    },
    {
      "cell_type": "code",
      "execution_count": null,
      "metadata": {
        "colab": {
          "base_uri": "https://localhost:8080/"
        },
        "id": "bsAHv-rO0o5O",
        "outputId": "a4d6d6ab-1bf1-4c4e-d2dd-98b1a95c3aa3"
      },
      "outputs": [
        {
          "output_type": "stream",
          "name": "stdout",
          "text": [
            "Found 5003 images belonging to 111 classes.\n",
            "Found 589 images belonging to 111 classes.\n"
          ]
        }
      ],
      "source": [
        "base_dir = DATASET_PATH + '/FASHION-DATASET-SMALL/'\n",
        "\n",
        "train_dir = os.path.join( base_dir, 'train')\n",
        "validation_dir = os.path.join( base_dir, 'validation')\n",
        "input_size = 150\n",
        "\n",
        "train_datagen = ImageDataGenerator(rescale = 1./255.)\n",
        "                                  #  ,\n",
        "                                  #  zoom_range = 0.2,\n",
        "                                  #  horizontal_flip = True)\n",
        "\n",
        "test_datagen = ImageDataGenerator( rescale = 1./255. )\n",
        "\n",
        "train_generator = train_datagen.flow_from_directory(train_dir,\n",
        "                                                    batch_size = 128,\n",
        "                                                    class_mode='sparse',\n",
        "                                                    target_size = (input_size, input_size))     \n",
        "\n",
        "validation_generator =  test_datagen.flow_from_directory( validation_dir,\n",
        "                                                          batch_size = 128,\n",
        "                                                          class_mode  = 'sparse', \n",
        "                                                          target_size = (input_size, input_size))"
      ]
    },
    {
      "cell_type": "markdown",
      "source": [
        "### Persiapan Pre-Trained Model"
      ],
      "metadata": {
        "id": "kflADqGU9Boo"
      }
    },
    {
      "cell_type": "code",
      "source": [
        "# Download pre-trained weights\n",
        "!wget --no-check-certificate \\\n",
        "    https://storage.googleapis.com/mledu-datasets/inception_v3_weights_tf_dim_ordering_tf_kernels_notop.h5 \\\n",
        "    -O /tmp/inception_v3_weights_tf_dim_ordering_tf_kernels_notop.h5"
      ],
      "metadata": {
        "colab": {
          "base_uri": "https://localhost:8080/"
        },
        "id": "pYVeccLQ8-_5",
        "outputId": "822db813-88ba-4904-a1f2-be6d2fc91f3a"
      },
      "execution_count": null,
      "outputs": [
        {
          "output_type": "stream",
          "name": "stdout",
          "text": [
            "--2022-06-03 09:49:19--  https://storage.googleapis.com/mledu-datasets/inception_v3_weights_tf_dim_ordering_tf_kernels_notop.h5\n",
            "Resolving storage.googleapis.com (storage.googleapis.com)... 108.177.125.128, 142.250.157.128, 74.125.203.128, ...\n",
            "Connecting to storage.googleapis.com (storage.googleapis.com)|108.177.125.128|:443... connected.\n",
            "HTTP request sent, awaiting response... 200 OK\n",
            "Length: 87910968 (84M) [application/x-hdf]\n",
            "Saving to: ‘/tmp/inception_v3_weights_tf_dim_ordering_tf_kernels_notop.h5’\n",
            "\n",
            "/tmp/inception_v3_w 100%[===================>]  83.84M   116MB/s    in 0.7s    \n",
            "\n",
            "2022-06-03 09:49:20 (116 MB/s) - ‘/tmp/inception_v3_weights_tf_dim_ordering_tf_kernels_notop.h5’ saved [87910968/87910968]\n",
            "\n"
          ]
        }
      ]
    },
    {
      "cell_type": "code",
      "source": [
        "from tensorflow.keras.applications.inception_v3 import InceptionV3\n",
        "from tensorflow.keras import layers\n",
        "\n",
        "# menyimpan weight file \n",
        "local_weights_file = '/tmp/inception_v3_weights_tf_dim_ordering_tf_kernels_notop.h5'\n",
        "\n",
        "# Inisialisasi model\n",
        "# menyetel ukuran masukkan gambar\n",
        "pre_trained_model = InceptionV3(input_shape = (input_size, input_size, 3), \n",
        "                                include_top = False, \n",
        "                                weights = None)\n",
        "\n",
        "# mengisi weight pre-trained model\n",
        "pre_trained_model.load_weights(local_weights_file)\n",
        "\n",
        "# freeze weight pada layer\n",
        "for layer in pre_trained_model.layers:\n",
        "  layer.trainable = False"
      ],
      "metadata": {
        "id": "U4yLhggU9HFT"
      },
      "execution_count": null,
      "outputs": []
    },
    {
      "cell_type": "code",
      "source": [
        "pre_trained_model.summary()"
      ],
      "metadata": {
        "id": "sH8opG9d9L9f"
      },
      "execution_count": null,
      "outputs": []
    },
    {
      "cell_type": "code",
      "source": [
        "# Pemilihan layer terakhir sebagai model dasar\n",
        "base_model = pre_trained_model.get_layer('mixed5')\n",
        "print('output dari based model: ', base_model.output_shape)\n",
        "base_model_output = base_model.output"
      ],
      "metadata": {
        "colab": {
          "base_uri": "https://localhost:8080/"
        },
        "id": "gQK-T5S89N28",
        "outputId": "0a3e3c57-bcc4-4637-fdae-a10d9c25dbd7"
      },
      "execution_count": null,
      "outputs": [
        {
          "output_type": "stream",
          "name": "stdout",
          "text": [
            "last layer output shape:  (None, 7, 7, 768)\n"
          ]
        }
      ]
    },
    {
      "cell_type": "markdown",
      "metadata": {
        "id": "LmwhTkVRVANM"
      },
      "source": [
        "### Perancangan Model CNN"
      ]
    },
    {
      "cell_type": "code",
      "execution_count": null,
      "metadata": {
        "id": "XOggXojiVANN"
      },
      "outputs": [],
      "source": [
        "def create_model():\n",
        "    # model = tf.keras.models.Sequential([\n",
        "    #         tf.keras.layers.Conv2D(32, (3, 3), input_shape = (input_size,input_size,3), activation='relu'),\n",
        "    #         tf.keras.layers.MaxPooling2D((2,2)),\n",
        "    #         tf.keras.layers.Dropout(0.2),\n",
        "\n",
        "    #         tf.keras.layers.Conv2D(64, (3, 3), input_shape = (input_size, input_size,3), activation='relu'),\n",
        "    #         tf.keras.layers.MaxPooling2D((2,2)),\n",
        "    #         tf.keras.layers.Dropout(0.2),\n",
        "\n",
        "    #         tf.keras.layers.Conv2D(128, (3, 3), input_shape = (input_size,input_size,3), activation='relu'),\n",
        "    #         tf.keras.layers.MaxPooling2D((2,2)),\n",
        "    #         tf.keras.layers.Dropout(0.2),\n",
        "    #         last_output,\n",
        "    #         tf.keras.layers.Flatten(),\n",
        "    #         tf.keras.layers.Dense(512, activation = \"relu\"),\n",
        "    #         # tf.keras.layers.Dropout(0.3),\n",
        "    #         tf.keras.layers.Dense(111, activation= \"softmax\")\n",
        "    # ])\n",
        "\n",
        "    model = layers.Flatten()(base_model_output)\n",
        "    model = layers.Dense(512, activation='relu')(model)\n",
        "    model = layers.Dropout(0.3)(model)                  \n",
        "    model = layers.Dense(111, activation= \"softmax\")(model)           \n",
        "\n",
        "    model = Model(pre_trained_model.input, model) \n",
        "\n",
        "    return model\n"
      ]
    },
    {
      "cell_type": "code",
      "execution_count": null,
      "metadata": {
        "colab": {
          "base_uri": "https://localhost:8080/"
        },
        "id": "3003oYPCVANN",
        "outputId": "56204b2d-1a65-4413-a6ba-b9ffaf1bac0e"
      },
      "outputs": [
        {
          "output_type": "stream",
          "name": "stdout",
          "text": [
            "Model: \"model_6\"\n",
            "__________________________________________________________________________________________________\n",
            " Layer (type)                   Output Shape         Param #     Connected to                     \n",
            "==================================================================================================\n",
            " input_3 (InputLayer)           [(None, 150, 150, 3  0           []                               \n",
            "                                )]                                                                \n",
            "                                                                                                  \n",
            " conv2d_188 (Conv2D)            (None, 74, 74, 32)   864         ['input_3[0][0]']                \n",
            "                                                                                                  \n",
            " batch_normalization_188 (Batch  (None, 74, 74, 32)  96          ['conv2d_188[0][0]']             \n",
            " Normalization)                                                                                   \n",
            "                                                                                                  \n",
            " activation_188 (Activation)    (None, 74, 74, 32)   0           ['batch_normalization_188[0][0]']\n",
            "                                                                                                  \n",
            " conv2d_189 (Conv2D)            (None, 72, 72, 32)   9216        ['activation_188[0][0]']         \n",
            "                                                                                                  \n",
            " batch_normalization_189 (Batch  (None, 72, 72, 32)  96          ['conv2d_189[0][0]']             \n",
            " Normalization)                                                                                   \n",
            "                                                                                                  \n",
            " activation_189 (Activation)    (None, 72, 72, 32)   0           ['batch_normalization_189[0][0]']\n",
            "                                                                                                  \n",
            " conv2d_190 (Conv2D)            (None, 72, 72, 64)   18432       ['activation_189[0][0]']         \n",
            "                                                                                                  \n",
            " batch_normalization_190 (Batch  (None, 72, 72, 64)  192         ['conv2d_190[0][0]']             \n",
            " Normalization)                                                                                   \n",
            "                                                                                                  \n",
            " activation_190 (Activation)    (None, 72, 72, 64)   0           ['batch_normalization_190[0][0]']\n",
            "                                                                                                  \n",
            " max_pooling2d_8 (MaxPooling2D)  (None, 35, 35, 64)  0           ['activation_190[0][0]']         \n",
            "                                                                                                  \n",
            " conv2d_191 (Conv2D)            (None, 35, 35, 80)   5120        ['max_pooling2d_8[0][0]']        \n",
            "                                                                                                  \n",
            " batch_normalization_191 (Batch  (None, 35, 35, 80)  240         ['conv2d_191[0][0]']             \n",
            " Normalization)                                                                                   \n",
            "                                                                                                  \n",
            " activation_191 (Activation)    (None, 35, 35, 80)   0           ['batch_normalization_191[0][0]']\n",
            "                                                                                                  \n",
            " conv2d_192 (Conv2D)            (None, 33, 33, 192)  138240      ['activation_191[0][0]']         \n",
            "                                                                                                  \n",
            " batch_normalization_192 (Batch  (None, 33, 33, 192)  576        ['conv2d_192[0][0]']             \n",
            " Normalization)                                                                                   \n",
            "                                                                                                  \n",
            " activation_192 (Activation)    (None, 33, 33, 192)  0           ['batch_normalization_192[0][0]']\n",
            "                                                                                                  \n",
            " max_pooling2d_9 (MaxPooling2D)  (None, 16, 16, 192)  0          ['activation_192[0][0]']         \n",
            "                                                                                                  \n",
            " conv2d_196 (Conv2D)            (None, 16, 16, 64)   12288       ['max_pooling2d_9[0][0]']        \n",
            "                                                                                                  \n",
            " batch_normalization_196 (Batch  (None, 16, 16, 64)  192         ['conv2d_196[0][0]']             \n",
            " Normalization)                                                                                   \n",
            "                                                                                                  \n",
            " activation_196 (Activation)    (None, 16, 16, 64)   0           ['batch_normalization_196[0][0]']\n",
            "                                                                                                  \n",
            " conv2d_194 (Conv2D)            (None, 16, 16, 48)   9216        ['max_pooling2d_9[0][0]']        \n",
            "                                                                                                  \n",
            " conv2d_197 (Conv2D)            (None, 16, 16, 96)   55296       ['activation_196[0][0]']         \n",
            "                                                                                                  \n",
            " batch_normalization_194 (Batch  (None, 16, 16, 48)  144         ['conv2d_194[0][0]']             \n",
            " Normalization)                                                                                   \n",
            "                                                                                                  \n",
            " batch_normalization_197 (Batch  (None, 16, 16, 96)  288         ['conv2d_197[0][0]']             \n",
            " Normalization)                                                                                   \n",
            "                                                                                                  \n",
            " activation_194 (Activation)    (None, 16, 16, 48)   0           ['batch_normalization_194[0][0]']\n",
            "                                                                                                  \n",
            " activation_197 (Activation)    (None, 16, 16, 96)   0           ['batch_normalization_197[0][0]']\n",
            "                                                                                                  \n",
            " average_pooling2d_18 (AverageP  (None, 16, 16, 192)  0          ['max_pooling2d_9[0][0]']        \n",
            " ooling2D)                                                                                        \n",
            "                                                                                                  \n",
            " conv2d_193 (Conv2D)            (None, 16, 16, 64)   12288       ['max_pooling2d_9[0][0]']        \n",
            "                                                                                                  \n",
            " conv2d_195 (Conv2D)            (None, 16, 16, 64)   76800       ['activation_194[0][0]']         \n",
            "                                                                                                  \n",
            " conv2d_198 (Conv2D)            (None, 16, 16, 96)   82944       ['activation_197[0][0]']         \n",
            "                                                                                                  \n",
            " conv2d_199 (Conv2D)            (None, 16, 16, 32)   6144        ['average_pooling2d_18[0][0]']   \n",
            "                                                                                                  \n",
            " batch_normalization_193 (Batch  (None, 16, 16, 64)  192         ['conv2d_193[0][0]']             \n",
            " Normalization)                                                                                   \n",
            "                                                                                                  \n",
            " batch_normalization_195 (Batch  (None, 16, 16, 64)  192         ['conv2d_195[0][0]']             \n",
            " Normalization)                                                                                   \n",
            "                                                                                                  \n",
            " batch_normalization_198 (Batch  (None, 16, 16, 96)  288         ['conv2d_198[0][0]']             \n",
            " Normalization)                                                                                   \n",
            "                                                                                                  \n",
            " batch_normalization_199 (Batch  (None, 16, 16, 32)  96          ['conv2d_199[0][0]']             \n",
            " Normalization)                                                                                   \n",
            "                                                                                                  \n",
            " activation_193 (Activation)    (None, 16, 16, 64)   0           ['batch_normalization_193[0][0]']\n",
            "                                                                                                  \n",
            " activation_195 (Activation)    (None, 16, 16, 64)   0           ['batch_normalization_195[0][0]']\n",
            "                                                                                                  \n",
            " activation_198 (Activation)    (None, 16, 16, 96)   0           ['batch_normalization_198[0][0]']\n",
            "                                                                                                  \n",
            " activation_199 (Activation)    (None, 16, 16, 32)   0           ['batch_normalization_199[0][0]']\n",
            "                                                                                                  \n",
            " mixed0 (Concatenate)           (None, 16, 16, 256)  0           ['activation_193[0][0]',         \n",
            "                                                                  'activation_195[0][0]',         \n",
            "                                                                  'activation_198[0][0]',         \n",
            "                                                                  'activation_199[0][0]']         \n",
            "                                                                                                  \n",
            " conv2d_203 (Conv2D)            (None, 16, 16, 64)   16384       ['mixed0[0][0]']                 \n",
            "                                                                                                  \n",
            " batch_normalization_203 (Batch  (None, 16, 16, 64)  192         ['conv2d_203[0][0]']             \n",
            " Normalization)                                                                                   \n",
            "                                                                                                  \n",
            " activation_203 (Activation)    (None, 16, 16, 64)   0           ['batch_normalization_203[0][0]']\n",
            "                                                                                                  \n",
            " conv2d_201 (Conv2D)            (None, 16, 16, 48)   12288       ['mixed0[0][0]']                 \n",
            "                                                                                                  \n",
            " conv2d_204 (Conv2D)            (None, 16, 16, 96)   55296       ['activation_203[0][0]']         \n",
            "                                                                                                  \n",
            " batch_normalization_201 (Batch  (None, 16, 16, 48)  144         ['conv2d_201[0][0]']             \n",
            " Normalization)                                                                                   \n",
            "                                                                                                  \n",
            " batch_normalization_204 (Batch  (None, 16, 16, 96)  288         ['conv2d_204[0][0]']             \n",
            " Normalization)                                                                                   \n",
            "                                                                                                  \n",
            " activation_201 (Activation)    (None, 16, 16, 48)   0           ['batch_normalization_201[0][0]']\n",
            "                                                                                                  \n",
            " activation_204 (Activation)    (None, 16, 16, 96)   0           ['batch_normalization_204[0][0]']\n",
            "                                                                                                  \n",
            " average_pooling2d_19 (AverageP  (None, 16, 16, 256)  0          ['mixed0[0][0]']                 \n",
            " ooling2D)                                                                                        \n",
            "                                                                                                  \n",
            " conv2d_200 (Conv2D)            (None, 16, 16, 64)   16384       ['mixed0[0][0]']                 \n",
            "                                                                                                  \n",
            " conv2d_202 (Conv2D)            (None, 16, 16, 64)   76800       ['activation_201[0][0]']         \n",
            "                                                                                                  \n",
            " conv2d_205 (Conv2D)            (None, 16, 16, 96)   82944       ['activation_204[0][0]']         \n",
            "                                                                                                  \n",
            " conv2d_206 (Conv2D)            (None, 16, 16, 64)   16384       ['average_pooling2d_19[0][0]']   \n",
            "                                                                                                  \n",
            " batch_normalization_200 (Batch  (None, 16, 16, 64)  192         ['conv2d_200[0][0]']             \n",
            " Normalization)                                                                                   \n",
            "                                                                                                  \n",
            " batch_normalization_202 (Batch  (None, 16, 16, 64)  192         ['conv2d_202[0][0]']             \n",
            " Normalization)                                                                                   \n",
            "                                                                                                  \n",
            " batch_normalization_205 (Batch  (None, 16, 16, 96)  288         ['conv2d_205[0][0]']             \n",
            " Normalization)                                                                                   \n",
            "                                                                                                  \n",
            " batch_normalization_206 (Batch  (None, 16, 16, 64)  192         ['conv2d_206[0][0]']             \n",
            " Normalization)                                                                                   \n",
            "                                                                                                  \n",
            " activation_200 (Activation)    (None, 16, 16, 64)   0           ['batch_normalization_200[0][0]']\n",
            "                                                                                                  \n",
            " activation_202 (Activation)    (None, 16, 16, 64)   0           ['batch_normalization_202[0][0]']\n",
            "                                                                                                  \n",
            " activation_205 (Activation)    (None, 16, 16, 96)   0           ['batch_normalization_205[0][0]']\n",
            "                                                                                                  \n",
            " activation_206 (Activation)    (None, 16, 16, 64)   0           ['batch_normalization_206[0][0]']\n",
            "                                                                                                  \n",
            " mixed1 (Concatenate)           (None, 16, 16, 288)  0           ['activation_200[0][0]',         \n",
            "                                                                  'activation_202[0][0]',         \n",
            "                                                                  'activation_205[0][0]',         \n",
            "                                                                  'activation_206[0][0]']         \n",
            "                                                                                                  \n",
            " conv2d_210 (Conv2D)            (None, 16, 16, 64)   18432       ['mixed1[0][0]']                 \n",
            "                                                                                                  \n",
            " batch_normalization_210 (Batch  (None, 16, 16, 64)  192         ['conv2d_210[0][0]']             \n",
            " Normalization)                                                                                   \n",
            "                                                                                                  \n",
            " activation_210 (Activation)    (None, 16, 16, 64)   0           ['batch_normalization_210[0][0]']\n",
            "                                                                                                  \n",
            " conv2d_208 (Conv2D)            (None, 16, 16, 48)   13824       ['mixed1[0][0]']                 \n",
            "                                                                                                  \n",
            " conv2d_211 (Conv2D)            (None, 16, 16, 96)   55296       ['activation_210[0][0]']         \n",
            "                                                                                                  \n",
            " batch_normalization_208 (Batch  (None, 16, 16, 48)  144         ['conv2d_208[0][0]']             \n",
            " Normalization)                                                                                   \n",
            "                                                                                                  \n",
            " batch_normalization_211 (Batch  (None, 16, 16, 96)  288         ['conv2d_211[0][0]']             \n",
            " Normalization)                                                                                   \n",
            "                                                                                                  \n",
            " activation_208 (Activation)    (None, 16, 16, 48)   0           ['batch_normalization_208[0][0]']\n",
            "                                                                                                  \n",
            " activation_211 (Activation)    (None, 16, 16, 96)   0           ['batch_normalization_211[0][0]']\n",
            "                                                                                                  \n",
            " average_pooling2d_20 (AverageP  (None, 16, 16, 288)  0          ['mixed1[0][0]']                 \n",
            " ooling2D)                                                                                        \n",
            "                                                                                                  \n",
            " conv2d_207 (Conv2D)            (None, 16, 16, 64)   18432       ['mixed1[0][0]']                 \n",
            "                                                                                                  \n",
            " conv2d_209 (Conv2D)            (None, 16, 16, 64)   76800       ['activation_208[0][0]']         \n",
            "                                                                                                  \n",
            " conv2d_212 (Conv2D)            (None, 16, 16, 96)   82944       ['activation_211[0][0]']         \n",
            "                                                                                                  \n",
            " conv2d_213 (Conv2D)            (None, 16, 16, 64)   18432       ['average_pooling2d_20[0][0]']   \n",
            "                                                                                                  \n",
            " batch_normalization_207 (Batch  (None, 16, 16, 64)  192         ['conv2d_207[0][0]']             \n",
            " Normalization)                                                                                   \n",
            "                                                                                                  \n",
            " batch_normalization_209 (Batch  (None, 16, 16, 64)  192         ['conv2d_209[0][0]']             \n",
            " Normalization)                                                                                   \n",
            "                                                                                                  \n",
            " batch_normalization_212 (Batch  (None, 16, 16, 96)  288         ['conv2d_212[0][0]']             \n",
            " Normalization)                                                                                   \n",
            "                                                                                                  \n",
            " batch_normalization_213 (Batch  (None, 16, 16, 64)  192         ['conv2d_213[0][0]']             \n",
            " Normalization)                                                                                   \n",
            "                                                                                                  \n",
            " activation_207 (Activation)    (None, 16, 16, 64)   0           ['batch_normalization_207[0][0]']\n",
            "                                                                                                  \n",
            " activation_209 (Activation)    (None, 16, 16, 64)   0           ['batch_normalization_209[0][0]']\n",
            "                                                                                                  \n",
            " activation_212 (Activation)    (None, 16, 16, 96)   0           ['batch_normalization_212[0][0]']\n",
            "                                                                                                  \n",
            " activation_213 (Activation)    (None, 16, 16, 64)   0           ['batch_normalization_213[0][0]']\n",
            "                                                                                                  \n",
            " mixed2 (Concatenate)           (None, 16, 16, 288)  0           ['activation_207[0][0]',         \n",
            "                                                                  'activation_209[0][0]',         \n",
            "                                                                  'activation_212[0][0]',         \n",
            "                                                                  'activation_213[0][0]']         \n",
            "                                                                                                  \n",
            " conv2d_215 (Conv2D)            (None, 16, 16, 64)   18432       ['mixed2[0][0]']                 \n",
            "                                                                                                  \n",
            " batch_normalization_215 (Batch  (None, 16, 16, 64)  192         ['conv2d_215[0][0]']             \n",
            " Normalization)                                                                                   \n",
            "                                                                                                  \n",
            " activation_215 (Activation)    (None, 16, 16, 64)   0           ['batch_normalization_215[0][0]']\n",
            "                                                                                                  \n",
            " conv2d_216 (Conv2D)            (None, 16, 16, 96)   55296       ['activation_215[0][0]']         \n",
            "                                                                                                  \n",
            " batch_normalization_216 (Batch  (None, 16, 16, 96)  288         ['conv2d_216[0][0]']             \n",
            " Normalization)                                                                                   \n",
            "                                                                                                  \n",
            " activation_216 (Activation)    (None, 16, 16, 96)   0           ['batch_normalization_216[0][0]']\n",
            "                                                                                                  \n",
            " conv2d_214 (Conv2D)            (None, 7, 7, 384)    995328      ['mixed2[0][0]']                 \n",
            "                                                                                                  \n",
            " conv2d_217 (Conv2D)            (None, 7, 7, 96)     82944       ['activation_216[0][0]']         \n",
            "                                                                                                  \n",
            " batch_normalization_214 (Batch  (None, 7, 7, 384)   1152        ['conv2d_214[0][0]']             \n",
            " Normalization)                                                                                   \n",
            "                                                                                                  \n",
            " batch_normalization_217 (Batch  (None, 7, 7, 96)    288         ['conv2d_217[0][0]']             \n",
            " Normalization)                                                                                   \n",
            "                                                                                                  \n",
            " activation_214 (Activation)    (None, 7, 7, 384)    0           ['batch_normalization_214[0][0]']\n",
            "                                                                                                  \n",
            " activation_217 (Activation)    (None, 7, 7, 96)     0           ['batch_normalization_217[0][0]']\n",
            "                                                                                                  \n",
            " max_pooling2d_10 (MaxPooling2D  (None, 7, 7, 288)   0           ['mixed2[0][0]']                 \n",
            " )                                                                                                \n",
            "                                                                                                  \n",
            " mixed3 (Concatenate)           (None, 7, 7, 768)    0           ['activation_214[0][0]',         \n",
            "                                                                  'activation_217[0][0]',         \n",
            "                                                                  'max_pooling2d_10[0][0]']       \n",
            "                                                                                                  \n",
            " conv2d_222 (Conv2D)            (None, 7, 7, 128)    98304       ['mixed3[0][0]']                 \n",
            "                                                                                                  \n",
            " batch_normalization_222 (Batch  (None, 7, 7, 128)   384         ['conv2d_222[0][0]']             \n",
            " Normalization)                                                                                   \n",
            "                                                                                                  \n",
            " activation_222 (Activation)    (None, 7, 7, 128)    0           ['batch_normalization_222[0][0]']\n",
            "                                                                                                  \n",
            " conv2d_223 (Conv2D)            (None, 7, 7, 128)    114688      ['activation_222[0][0]']         \n",
            "                                                                                                  \n",
            " batch_normalization_223 (Batch  (None, 7, 7, 128)   384         ['conv2d_223[0][0]']             \n",
            " Normalization)                                                                                   \n",
            "                                                                                                  \n",
            " activation_223 (Activation)    (None, 7, 7, 128)    0           ['batch_normalization_223[0][0]']\n",
            "                                                                                                  \n",
            " conv2d_219 (Conv2D)            (None, 7, 7, 128)    98304       ['mixed3[0][0]']                 \n",
            "                                                                                                  \n",
            " conv2d_224 (Conv2D)            (None, 7, 7, 128)    114688      ['activation_223[0][0]']         \n",
            "                                                                                                  \n",
            " batch_normalization_219 (Batch  (None, 7, 7, 128)   384         ['conv2d_219[0][0]']             \n",
            " Normalization)                                                                                   \n",
            "                                                                                                  \n",
            " batch_normalization_224 (Batch  (None, 7, 7, 128)   384         ['conv2d_224[0][0]']             \n",
            " Normalization)                                                                                   \n",
            "                                                                                                  \n",
            " activation_219 (Activation)    (None, 7, 7, 128)    0           ['batch_normalization_219[0][0]']\n",
            "                                                                                                  \n",
            " activation_224 (Activation)    (None, 7, 7, 128)    0           ['batch_normalization_224[0][0]']\n",
            "                                                                                                  \n",
            " conv2d_220 (Conv2D)            (None, 7, 7, 128)    114688      ['activation_219[0][0]']         \n",
            "                                                                                                  \n",
            " conv2d_225 (Conv2D)            (None, 7, 7, 128)    114688      ['activation_224[0][0]']         \n",
            "                                                                                                  \n",
            " batch_normalization_220 (Batch  (None, 7, 7, 128)   384         ['conv2d_220[0][0]']             \n",
            " Normalization)                                                                                   \n",
            "                                                                                                  \n",
            " batch_normalization_225 (Batch  (None, 7, 7, 128)   384         ['conv2d_225[0][0]']             \n",
            " Normalization)                                                                                   \n",
            "                                                                                                  \n",
            " activation_220 (Activation)    (None, 7, 7, 128)    0           ['batch_normalization_220[0][0]']\n",
            "                                                                                                  \n",
            " activation_225 (Activation)    (None, 7, 7, 128)    0           ['batch_normalization_225[0][0]']\n",
            "                                                                                                  \n",
            " average_pooling2d_21 (AverageP  (None, 7, 7, 768)   0           ['mixed3[0][0]']                 \n",
            " ooling2D)                                                                                        \n",
            "                                                                                                  \n",
            " conv2d_218 (Conv2D)            (None, 7, 7, 192)    147456      ['mixed3[0][0]']                 \n",
            "                                                                                                  \n",
            " conv2d_221 (Conv2D)            (None, 7, 7, 192)    172032      ['activation_220[0][0]']         \n",
            "                                                                                                  \n",
            " conv2d_226 (Conv2D)            (None, 7, 7, 192)    172032      ['activation_225[0][0]']         \n",
            "                                                                                                  \n",
            " conv2d_227 (Conv2D)            (None, 7, 7, 192)    147456      ['average_pooling2d_21[0][0]']   \n",
            "                                                                                                  \n",
            " batch_normalization_218 (Batch  (None, 7, 7, 192)   576         ['conv2d_218[0][0]']             \n",
            " Normalization)                                                                                   \n",
            "                                                                                                  \n",
            " batch_normalization_221 (Batch  (None, 7, 7, 192)   576         ['conv2d_221[0][0]']             \n",
            " Normalization)                                                                                   \n",
            "                                                                                                  \n",
            " batch_normalization_226 (Batch  (None, 7, 7, 192)   576         ['conv2d_226[0][0]']             \n",
            " Normalization)                                                                                   \n",
            "                                                                                                  \n",
            " batch_normalization_227 (Batch  (None, 7, 7, 192)   576         ['conv2d_227[0][0]']             \n",
            " Normalization)                                                                                   \n",
            "                                                                                                  \n",
            " activation_218 (Activation)    (None, 7, 7, 192)    0           ['batch_normalization_218[0][0]']\n",
            "                                                                                                  \n",
            " activation_221 (Activation)    (None, 7, 7, 192)    0           ['batch_normalization_221[0][0]']\n",
            "                                                                                                  \n",
            " activation_226 (Activation)    (None, 7, 7, 192)    0           ['batch_normalization_226[0][0]']\n",
            "                                                                                                  \n",
            " activation_227 (Activation)    (None, 7, 7, 192)    0           ['batch_normalization_227[0][0]']\n",
            "                                                                                                  \n",
            " mixed4 (Concatenate)           (None, 7, 7, 768)    0           ['activation_218[0][0]',         \n",
            "                                                                  'activation_221[0][0]',         \n",
            "                                                                  'activation_226[0][0]',         \n",
            "                                                                  'activation_227[0][0]']         \n",
            "                                                                                                  \n",
            " conv2d_232 (Conv2D)            (None, 7, 7, 160)    122880      ['mixed4[0][0]']                 \n",
            "                                                                                                  \n",
            " batch_normalization_232 (Batch  (None, 7, 7, 160)   480         ['conv2d_232[0][0]']             \n",
            " Normalization)                                                                                   \n",
            "                                                                                                  \n",
            " activation_232 (Activation)    (None, 7, 7, 160)    0           ['batch_normalization_232[0][0]']\n",
            "                                                                                                  \n",
            " conv2d_233 (Conv2D)            (None, 7, 7, 160)    179200      ['activation_232[0][0]']         \n",
            "                                                                                                  \n",
            " batch_normalization_233 (Batch  (None, 7, 7, 160)   480         ['conv2d_233[0][0]']             \n",
            " Normalization)                                                                                   \n",
            "                                                                                                  \n",
            " activation_233 (Activation)    (None, 7, 7, 160)    0           ['batch_normalization_233[0][0]']\n",
            "                                                                                                  \n",
            " conv2d_229 (Conv2D)            (None, 7, 7, 160)    122880      ['mixed4[0][0]']                 \n",
            "                                                                                                  \n",
            " conv2d_234 (Conv2D)            (None, 7, 7, 160)    179200      ['activation_233[0][0]']         \n",
            "                                                                                                  \n",
            " batch_normalization_229 (Batch  (None, 7, 7, 160)   480         ['conv2d_229[0][0]']             \n",
            " Normalization)                                                                                   \n",
            "                                                                                                  \n",
            " batch_normalization_234 (Batch  (None, 7, 7, 160)   480         ['conv2d_234[0][0]']             \n",
            " Normalization)                                                                                   \n",
            "                                                                                                  \n",
            " activation_229 (Activation)    (None, 7, 7, 160)    0           ['batch_normalization_229[0][0]']\n",
            "                                                                                                  \n",
            " activation_234 (Activation)    (None, 7, 7, 160)    0           ['batch_normalization_234[0][0]']\n",
            "                                                                                                  \n",
            " conv2d_230 (Conv2D)            (None, 7, 7, 160)    179200      ['activation_229[0][0]']         \n",
            "                                                                                                  \n",
            " conv2d_235 (Conv2D)            (None, 7, 7, 160)    179200      ['activation_234[0][0]']         \n",
            "                                                                                                  \n",
            " batch_normalization_230 (Batch  (None, 7, 7, 160)   480         ['conv2d_230[0][0]']             \n",
            " Normalization)                                                                                   \n",
            "                                                                                                  \n",
            " batch_normalization_235 (Batch  (None, 7, 7, 160)   480         ['conv2d_235[0][0]']             \n",
            " Normalization)                                                                                   \n",
            "                                                                                                  \n",
            " activation_230 (Activation)    (None, 7, 7, 160)    0           ['batch_normalization_230[0][0]']\n",
            "                                                                                                  \n",
            " activation_235 (Activation)    (None, 7, 7, 160)    0           ['batch_normalization_235[0][0]']\n",
            "                                                                                                  \n",
            " average_pooling2d_22 (AverageP  (None, 7, 7, 768)   0           ['mixed4[0][0]']                 \n",
            " ooling2D)                                                                                        \n",
            "                                                                                                  \n",
            " conv2d_228 (Conv2D)            (None, 7, 7, 192)    147456      ['mixed4[0][0]']                 \n",
            "                                                                                                  \n",
            " conv2d_231 (Conv2D)            (None, 7, 7, 192)    215040      ['activation_230[0][0]']         \n",
            "                                                                                                  \n",
            " conv2d_236 (Conv2D)            (None, 7, 7, 192)    215040      ['activation_235[0][0]']         \n",
            "                                                                                                  \n",
            " conv2d_237 (Conv2D)            (None, 7, 7, 192)    147456      ['average_pooling2d_22[0][0]']   \n",
            "                                                                                                  \n",
            " batch_normalization_228 (Batch  (None, 7, 7, 192)   576         ['conv2d_228[0][0]']             \n",
            " Normalization)                                                                                   \n",
            "                                                                                                  \n",
            " batch_normalization_231 (Batch  (None, 7, 7, 192)   576         ['conv2d_231[0][0]']             \n",
            " Normalization)                                                                                   \n",
            "                                                                                                  \n",
            " batch_normalization_236 (Batch  (None, 7, 7, 192)   576         ['conv2d_236[0][0]']             \n",
            " Normalization)                                                                                   \n",
            "                                                                                                  \n",
            " batch_normalization_237 (Batch  (None, 7, 7, 192)   576         ['conv2d_237[0][0]']             \n",
            " Normalization)                                                                                   \n",
            "                                                                                                  \n",
            " activation_228 (Activation)    (None, 7, 7, 192)    0           ['batch_normalization_228[0][0]']\n",
            "                                                                                                  \n",
            " activation_231 (Activation)    (None, 7, 7, 192)    0           ['batch_normalization_231[0][0]']\n",
            "                                                                                                  \n",
            " activation_236 (Activation)    (None, 7, 7, 192)    0           ['batch_normalization_236[0][0]']\n",
            "                                                                                                  \n",
            " activation_237 (Activation)    (None, 7, 7, 192)    0           ['batch_normalization_237[0][0]']\n",
            "                                                                                                  \n",
            " mixed5 (Concatenate)           (None, 7, 7, 768)    0           ['activation_228[0][0]',         \n",
            "                                                                  'activation_231[0][0]',         \n",
            "                                                                  'activation_236[0][0]',         \n",
            "                                                                  'activation_237[0][0]']         \n",
            "                                                                                                  \n",
            " flatten_8 (Flatten)            (None, 37632)        0           ['mixed5[0][0]']                 \n",
            "                                                                                                  \n",
            " dense_16 (Dense)               (None, 512)          19268096    ['flatten_8[0][0]']              \n",
            "                                                                                                  \n",
            " dropout_2 (Dropout)            (None, 512)          0           ['dense_16[0][0]']               \n",
            "                                                                                                  \n",
            " dense_17 (Dense)               (None, 111)          56943       ['dropout_2[0][0]']              \n",
            "                                                                                                  \n",
            "==================================================================================================\n",
            "Total params: 24,463,695\n",
            "Trainable params: 19,325,039\n",
            "Non-trainable params: 5,138,656\n",
            "__________________________________________________________________________________________________\n",
            "None\n"
          ]
        }
      ],
      "source": [
        "model=create_model()\n",
        "print(model.summary())"
      ]
    },
    {
      "cell_type": "code",
      "execution_count": null,
      "metadata": {
        "id": "Vro189J9oTe0"
      },
      "outputs": [],
      "source": [
        "model.compile(\n",
        "    loss ='sparse_categorical_crossentropy', \n",
        "    optimizer = 'adam',\n",
        "    metrics =['accuracy'])"
      ]
    },
    {
      "cell_type": "markdown",
      "source": [
        "### Callback untuk Menghentikan Training"
      ],
      "metadata": {
        "id": "gm_lUChRTRFm"
      }
    },
    {
      "cell_type": "code",
      "source": [
        "class myCallback(tf.keras.callbacks.Callback):\n",
        "  def on_epoch_end(self, epoch, logs={}):\n",
        "    if(logs.get('accuracy')>0.95) and (logs.get('val_accuracy') > 0.85):\n",
        "      print(\"\\nTraining model dihentikan!\")\n",
        "      self.model.stop_training = True\n",
        "callbacks = myCallback()"
      ],
      "metadata": {
        "id": "8_C3DwwgTxSf"
      },
      "execution_count": null,
      "outputs": []
    },
    {
      "cell_type": "code",
      "execution_count": null,
      "metadata": {
        "colab": {
          "base_uri": "https://localhost:8080/"
        },
        "id": "AqJRc8rMVANN",
        "outputId": "50dbf323-1db3-4a84-d24e-4ac56b419dee"
      },
      "outputs": [
        {
          "output_type": "stream",
          "name": "stdout",
          "text": [
            "Epoch 1/150\n",
            "\n",
            "Training model dihentikan!\n",
            "40/40 - 133s - loss: 0.0566 - accuracy: 0.9800 - val_loss: 1.1272 - val_accuracy: 0.8778 - 133s/epoch - 3s/step\n"
          ]
        }
      ],
      "source": [
        "history = model.fit(\n",
        "    train_generator,\n",
        "    validation_data = validation_generator, \n",
        "    epochs=150, \n",
        "    verbose = 2,\n",
        "    callbacks=callbacks)"
      ]
    },
    {
      "cell_type": "markdown",
      "metadata": {
        "id": "bp7moeI6VANP"
      },
      "source": [
        "### Evaluasi Model"
      ]
    },
    {
      "cell_type": "code",
      "execution_count": null,
      "metadata": {
        "id": "bMBFn3lqVANP",
        "colab": {
          "base_uri": "https://localhost:8080/",
          "height": 534
        },
        "outputId": "1c172639-65e5-48b2-d693-ccd64081e28e"
      },
      "outputs": [
        {
          "output_type": "execute_result",
          "data": {
            "text/plain": [
              "<Figure size 432x288 with 0 Axes>"
            ]
          },
          "metadata": {},
          "execution_count": 53
        },
        {
          "output_type": "display_data",
          "data": {
            "text/plain": [
              "<Figure size 864x576 with 1 Axes>"
            ],
            "image/png": "[encoded data removed]"
          },
          "metadata": {
            "needs_background": "light"
          }
        },
        {
          "output_type": "display_data",
          "data": {
            "text/plain": [
              "<Figure size 432x288 with 0 Axes>"
            ]
          },
          "metadata": {}
        }
      ],
      "source": [
        "plt.figure(figsize=(12, 8))\n",
        "\n",
        "acc = history.history['accuracy']\n",
        "val_acc = history.history['val_accuracy']\n",
        "loss = history.history['loss']\n",
        "val_loss = history.history['val_loss']\n",
        "\n",
        "epochs = range(len(acc))\n",
        "\n",
        "plt.plot(epochs, acc, 'r', label='Training accuracy')\n",
        "plt.plot(epochs, val_acc, 'b', label='Validation accuracy')\n",
        "plt.title('Training and validation accuracy')\n",
        "plt.legend(loc=0)\n",
        "plt.figure()"
      ]
    },
    {
      "cell_type": "code",
      "execution_count": null,
      "metadata": {
        "id": "7tax4EFmowIB",
        "colab": {
          "base_uri": "https://localhost:8080/"
        },
        "outputId": "582780c4-7bc0-44a3-d6c5-5f87e9e065de"
      },
      "outputs": [
        {
          "output_type": "stream",
          "name": "stdout",
          "text": [
            "rm: cannot remove '/content/Recommendation_System.h5': No such file or directory\n"
          ]
        }
      ],
      "source": [
        "! rm -r '/content/Recommendation_System.h5'"
      ]
    },
    {
      "cell_type": "code",
      "execution_count": null,
      "metadata": {
        "id": "6kWp6FX1UHSQ"
      },
      "outputs": [],
      "source": [
        "# save model\n",
        "model.save('Recommendation_System_CNN.h5')"
      ]
    },
    {
      "cell_type": "code",
      "execution_count": null,
      "metadata": {
        "id": "VZ2Pu5CzXmoQ"
      },
      "outputs": [],
      "source": [
        "# load model\n",
        "model = models.load_model('Recommendation_System_CNN.h5')"
      ]
    },
    {
      "cell_type": "markdown",
      "metadata": {
        "id": "pAFjwdbpsGaE"
      },
      "source": [
        "### Prediksi gambar yang diberikan"
      ]
    },
    {
      "cell_type": "code",
      "execution_count": null,
      "metadata": {
        "id": "vJ976zCsElZD",
        "colab": {
          "base_uri": "https://localhost:8080/"
        },
        "outputId": "d62e56c1-4c93-49da-a60a-de456ae200d2"
      },
      "outputs": [
        {
          "output_type": "stream",
          "name": "stdout",
          "text": [
            "['Accessory Gift Set', 'Baby Dolls', 'Backpacks', 'Bangle', 'Bath Robe', 'Beauty Accessory', 'Belts', 'Blazers', 'Boxers', 'Bra', 'Bracelet', 'Briefs', 'Camisoles', 'Capris', 'Caps', 'Casual Shoes', 'Churidar', 'Clutches', 'Compact', 'Deodorant', 'Dresses', 'Duffel Bag', 'Dupatta', 'Earrings', 'Eye Cream', 'Eyeshadow', 'Face Moisturisers', 'Face Scrub and Exfoliator', 'Face Wash and Cleanser', 'Flats', 'Flip Flops', 'Footballs', 'Formal Shoes', 'Foundation and Primer', 'Fragrance Gift Set', 'Free Gifts', 'Gloves', 'Handbags', 'Headband', 'Heels', 'Highlighter and Blush', 'Innerwear Vests', 'Jackets', 'Jeans', 'Jewellery Set', 'Jumpsuit', 'Kajal and Eyeliner', 'Kurta Sets', 'Kurtas', 'Kurtis', 'Laptop Bag', 'Leggings', 'Lip Care', 'Lip Gloss', 'Lip Liner', 'Lipstick', 'Lounge Pants', 'Lounge Shorts', 'Lounge Tshirts', 'Mask and Peel', 'Messenger Bag', 'Mobile Pouch', 'Mufflers', 'Nail Essentials', 'Nail Polish', 'Necklace and Chains', 'Night suits', 'Nightdress', 'Patiala', 'Pendant', 'Perfume and Body Mist', 'Rain Jacket', 'Ring', 'Robe', 'Salwar and Dupatta', 'Sandals', 'Sarees', 'Scarves', 'Shirts', 'Shoe Accessories', 'Shoe Laces', 'Shorts', 'Shrug', 'Skirts', 'Socks', 'Sports Sandals', 'Sports Shoes', 'Stockings', 'Sunglasses', 'Suspenders', 'Sweaters', 'Sweatshirts', 'Swimwear', 'Tablet Sleeve', 'Ties', 'Ties and Cufflinks', 'Tights', 'Tops', 'Track Pants', 'Tracksuits', 'Travel Accessory', 'Trolley Bag', 'Trousers', 'Trunk', 'Tshirts', 'Tunics', 'Waistcoat', 'Wallets', 'Watches', 'Water Bottle', 'Wristbands']\n",
            "111\n"
          ]
        }
      ],
      "source": [
        "# mengetahui jumlah class\n",
        "fashion_class = []\n",
        "for c in os.listdir(DATASET_PATH + 'filtered images/'): \n",
        "  c = c.split('.')\n",
        "  fashion_class.append(c[0])\n",
        "fashion_class = list(dict.fromkeys(fashion_class))\n",
        "fashion_class.sort()\n",
        "\n",
        "print(fashion_class)\n",
        "print(len(fashion_class))"
      ]
    },
    {
      "cell_type": "code",
      "execution_count": null,
      "metadata": {
        "id": "jk5d4J9tUdUp"
      },
      "outputs": [],
      "source": [
        "def prediction(img):\n",
        "    resized_img = cv2.resize(img, dsize=(input_size, input_size), interpolation = cv2.INTER_AREA)\n",
        "    print(resized_img.shape)\n",
        "    plt.imshow(resized_img)\n",
        "    \n",
        "    x_data = np.array(img).reshape(-1,input_size, input_size,3)\n",
        "    x_data=x_data/255\n",
        "    res=model.predict(x_data)\n",
        "\n",
        "    print(np.argmax(res))\n",
        "    return x_data,fashion_class[np.argmax(res)]"
      ]
    },
    {
      "cell_type": "markdown",
      "metadata": {
        "id": "EiQUIU7RQPRp"
      },
      "source": [
        "> #### Prediksi Gambar dari Dataset"
      ]
    },
    {
      "cell_type": "code",
      "execution_count": null,
      "metadata": {
        "id": "OACEZ3l3UXw1",
        "colab": {
          "base_uri": "https://localhost:8080/",
          "height": 368
        },
        "outputId": "f0ffc22e-2817-4419-9ede-8099d8de1d0b"
      },
      "outputs": [
        {
          "output_type": "stream",
          "name": "stdout",
          "text": [
            "Earrings.43795.jpg\n",
            "Prediction: \n",
            "(150, 150, 3)\n",
            "23\n",
            "Earrings\n"
          ]
        },
        {
          "output_type": "display_data",
          "data": {
            "text/plain": [
              "<Figure size 432x288 with 1 Axes>"
            ],
            "image/png": "[encoded data removed]"
          },
          "metadata": {
            "needs_background": "light"
          }
        }
      ],
      "source": [
        "i = 4000\n",
        "Image_path= DATASET_PATH + 'filtered images/' \n",
        "image_point = os.listdir(Image_path)[i]\n",
        "imageid = image_point.split('.')\n",
        "imageid = image_point[1]\n",
        "\n",
        "image = cv2.imread(Image_path + str(image_point),cv2.IMREAD_COLOR)\n",
        "realIm = cv2.resize(image, dsize=(input_size, input_size))\n",
        "realIm=cv2.cvtColor(realIm,cv2.COLOR_BGR2RGB)\n",
        "\n",
        "print(image_point)\n",
        "plt.title(imageid)\n",
        "plt.imshow(realIm)\n",
        "\n",
        "print('Prediction: ')\n",
        "numpyIm,class_image=prediction(realIm)\n",
        "print(class_image)\n",
        "# print(numpyIm)"
      ]
    },
    {
      "cell_type": "markdown",
      "metadata": {
        "id": "m7NBZ2B-QnNC"
      },
      "source": [
        "> #### Prediksi Gambar dari Sumber Berbeda"
      ]
    },
    {
      "cell_type": "code",
      "execution_count": null,
      "metadata": {
        "id": "-c0Att7Bc52_",
        "colab": {
          "resources": {
            "http://localhost:8080/nbextensions/google.colab/files.js": {
              "data": "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",
              "ok": true,
              "headers": [
                [
                  "content-type",
                  "application/javascript"
                ]
              ],
              "status": 200,
              "status_text": ""
            }
          },
          "base_uri": "https://localhost:8080/",
          "height": 378
        },
        "outputId": "d5eca011-ea3b-42ab-8539-1a8f030b858a"
      },
      "outputs": [
        {
          "output_type": "display_data",
          "data": {
            "text/plain": [
              "<IPython.core.display.HTML object>"
            ],
            "text/html": [
              "\n",
              "     <input type=\"file\" id=\"files-47936b36-21b0-43b6-b7d5-ec7bc5ba5c40\" name=\"files[]\" multiple disabled\n",
              "        style=\"border:none\" />\n",
              "     <output id=\"result-47936b36-21b0-43b6-b7d5-ec7bc5ba5c40\">\n",
              "      Upload widget is only available when the cell has been executed in the\n",
              "      current browser session. Please rerun this cell to enable.\n",
              "      </output>\n",
              "      <script src=\"/nbextensions/google.colab/files.js\"></script> "
            ]
          },
          "metadata": {}
        },
        {
          "output_type": "stream",
          "name": "stdout",
          "text": [
            "Saving Screenshot 2022-06-04 000939.png to Screenshot 2022-06-04 000939.png\n",
            "(150, 150, 3)\n",
            "104\n",
            "Tshirts\n"
          ]
        },
        {
          "output_type": "display_data",
          "data": {
            "text/plain": [
              "<Figure size 432x288 with 1 Axes>"
            ],
            "image/png": "[encoded data removed]"
          },
          "metadata": {
            "needs_background": "light"
          }
        }
      ],
      "source": [
        "from google.colab import files\n",
        "from keras.preprocessing import image\n",
        "\n",
        "uploaded = files.upload()\n",
        "Image_path= DATASET_PATH + 'filtered images/' \n",
        "\n",
        "for fn in uploaded.keys():\n",
        "  path = fn\n",
        "  img = cv2.imread(path,cv2.IMREAD_COLOR)\n",
        "  img = cv2.resize(img, dsize=(input_size, input_size))\n",
        "  plt.imshow(img)\n",
        "  realIm = cv2.cvtColor(img,cv2.COLOR_BGR2RGB)\n",
        "  numpyIm,class_image=prediction(realIm)\n",
        "  print(class_image)\n",
        "  # print(numpyIm)"
      ]
    },
    {
      "cell_type": "code",
      "execution_count": null,
      "metadata": {
        "id": "wIbd-kNnb9fY"
      },
      "outputs": [],
      "source": [
        "# ! ls '/content/'\n",
        "for i in os.listdir('/content/'):\n",
        "  if i.endswith('.JPG') or i.endswith('.png') or i.endswith('.jpg'):\n",
        "    os.remove('/content/'+ i)"
      ]
    },
    {
      "cell_type": "markdown",
      "metadata": {
        "id": "QyGHxAZpryji"
      },
      "source": [
        "### Mengecek Kesamaan Berdasarkan Kategori Pakaian"
      ]
    },
    {
      "cell_type": "code",
      "execution_count": null,
      "metadata": {
        "id": "LZXsSdb8r98H"
      },
      "outputs": [],
      "source": [
        "X_match=[]\n",
        "X_filename_match=[]\n",
        "X_numpy=[]\n",
        "filterIm = os.listdir(DATASET_PATH + 'filtered images/')\n",
        "\n",
        "for image in filterIm:\n",
        "    imagelist = image.split('.')\n",
        "    imPointed = imagelist[0]\n",
        "    if class_image == imPointed:\n",
        "      im = cv2.imread(DATASET_PATH + 'filtered images/' + str(image))\n",
        "      resizedIm = cv2.resize(im, dsize=(input_size,input_size))\n",
        "      \n",
        "      X_match.append(resizedIm)\n",
        "      X_filename_match.append(image)\n",
        "X_numpy = np.array(X_match).reshape(-1, input_size,input_size,3)\n",
        "X_numpy = X_numpy/255"
      ]
    },
    {
      "cell_type": "code",
      "execution_count": null,
      "metadata": {
        "id": "FGgzMfSkHtnX"
      },
      "outputs": [],
      "source": [
        "for i in X_match:\n",
        "  plt.imshow(X_match[0])\n",
        "plt.title(X_filename_match[0])"
      ]
    },
    {
      "cell_type": "markdown",
      "metadata": {
        "id": "dXOceC_XJLDm"
      },
      "source": [
        "### Sistem Merekomendasikan Barang"
      ]
    },
    {
      "cell_type": "code",
      "execution_count": null,
      "metadata": {
        "id": "DzdFsxrUSitN"
      },
      "outputs": [],
      "source": [
        "def VectorDistances(i1, i2):\n",
        "    return math.sqrt(np.sum((i1-i2)**2))"
      ]
    },
    {
      "cell_type": "code",
      "execution_count": null,
      "metadata": {
        "id": "4352WgZBT8bz"
      },
      "outputs": [],
      "source": [
        "distList=[]\n",
        "for i in range (0, len(X_numpy)):\n",
        "    distList.append(VectorDistances(numpyIm,X_numpy[i]))\n",
        "\n",
        "print(distList)\n",
        "distancesSorted = distList.sort()\n",
        "\n",
        "best_distances=distancesSorted[0:10]\n",
        "best_distances = list(dict.fromkeys(best_distances))\n",
        "\n",
        "distIndex=[]\n",
        "for i in range (0, len(best_distances)):\n",
        "  distIndex.append(distList.index(best_distances[i]))\n",
        "\n",
        "print(distIndex)"
      ]
    },
    {
      "cell_type": "code",
      "execution_count": null,
      "metadata": {
        "id": "QTnut5AVT-Vi"
      },
      "outputs": [],
      "source": [
        "\n",
        "plt.title(imageid)\n",
        "plt.imshow(realIm)\n",
        "\n",
        "fig=plt.figure()\n",
        "fig.set_figheight(15)\n",
        "fig.set_figwidth(15)\n",
        "axis=[]\n",
        "for i in range(0,len(distIndex)):\n",
        "    print(X_filename_match[i])\n",
        "    Image_path= DATASET_PATH + 'filtered images/'+str(X_filename_match[distIndex[i]])\n",
        "    src = cv2.imread(Image_path)\n",
        "    image = cv2.cvtColor(src, cv2.COLOR_BGR2RGB) \n",
        "\n",
        "    axis.append(fig.add_subplot(1,5, i+1))\n",
        "    subplot_title=str(X_filename_match[distIndex[i]])\n",
        "    axis[-1].set_title(subplot_title)  \n",
        "    plt.imshow(image)\n",
        "\n",
        "fig.tight_layout()\n",
        "plt.show()\n",
        "    "
      ]
    }
  ],
  "metadata": {
    "colab": {
      "collapsed_sections": [],
      "name": "Recommendation System with CNN.ipynb",
      "provenance": []
    },
    "kernelspec": {
      "display_name": "Python 3",
      "language": "python",
      "name": "python3"
    },
    "language_info": {
      "codemirror_mode": {
        "name": "ipython",
        "version": 3
      },
      "file_extension": ".py",
      "mimetype": "text/x-python",
      "name": "python",
      "nbconvert_exporter": "python",
      "pygments_lexer": "ipython3",
      "version": "3.6.4"
    }
  },
  "nbformat": 4,
  "nbformat_minor": 0
}